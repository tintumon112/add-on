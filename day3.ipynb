{
 "cells": [
  {
   "cell_type": "code",
   "execution_count": 4,
   "id": "44088423",
   "metadata": {},
   "outputs": [],
   "source": [
    "def addition(a,b):\n",
    "    c=a+b\n",
    "    return c"
   ]
  },
  {
   "cell_type": "code",
   "execution_count": 6,
   "id": "43fdab00",
   "metadata": {},
   "outputs": [
    {
     "name": "stdout",
     "output_type": "stream",
     "text": [
      "Enter a no:5\n",
      "Enter a no:8\n"
     ]
    },
    {
     "data": {
      "text/plain": [
       "13"
      ]
     },
     "execution_count": 6,
     "metadata": {},
     "output_type": "execute_result"
    }
   ],
   "source": [
    "a=int(input('Enter a no:'))\n",
    "b=int(input('Enter a no:'))\n",
    "addition(a,b)"
   ]
  },
  {
   "cell_type": "code",
   "execution_count": 9,
   "id": "22271830",
   "metadata": {},
   "outputs": [],
   "source": [
    "def large(a,b,c):\n",
    "    if a>b and a>c:\n",
    "        return a\n",
    "    elif b>a and b>c:\n",
    "        return b\n",
    "    else:\n",
    "        return c"
   ]
  },
  {
   "cell_type": "code",
   "execution_count": 10,
   "id": "b6671d10",
   "metadata": {},
   "outputs": [
    {
     "name": "stdout",
     "output_type": "stream",
     "text": [
      "Enter a no5\n",
      "Enter a no8\n",
      "Enter a no3\n",
      "large is 8\n"
     ]
    }
   ],
   "source": [
    "a=int(input('Enter a no'))\n",
    "b=int(input('Enter a no'))\n",
    "c=int(input('Enter a no'))\n",
    "print('large is',large(a,b,c))"
   ]
  },
  {
   "cell_type": "code",
   "execution_count": 24,
   "id": "838a1612",
   "metadata": {},
   "outputs": [
    {
     "name": "stdout",
     "output_type": "stream",
     "text": [
      "25\n"
     ]
    }
   ],
   "source": [
    "score=[10,25,26,18,21,]\n",
    "sc_set=set(score)\n",
    "top=max(sc_set)\n",
    "sc_set.remove(top)\n",
    "print(max(sc_set))"
   ]
  },
  {
   "cell_type": "code",
   "execution_count": 25,
   "id": "488eed6f",
   "metadata": {},
   "outputs": [
    {
     "data": {
      "text/plain": [
       "26"
      ]
     },
     "execution_count": 25,
     "metadata": {},
     "output_type": "execute_result"
    }
   ],
   "source": [
    "top"
   ]
  },
  {
   "cell_type": "code",
   "execution_count": 30,
   "id": "3b883391",
   "metadata": {},
   "outputs": [
    {
     "name": "stdout",
     "output_type": "stream",
     "text": [
      "{9, 5, 7}\n"
     ]
    }
   ],
   "source": [
    "set1={3,5,7,9,}\n",
    "set2={9,6,7,5,}\n",
    "if set1.intersection(set2):\n",
    "    print(set1&set2)\n",
    "else:\n",
    "        print(set1.union(set2))"
   ]
  },
  {
   "cell_type": "code",
   "execution_count": 34,
   "id": "584bc533",
   "metadata": {},
   "outputs": [
    {
     "name": "stdout",
     "output_type": "stream",
     "text": [
      "Enter the name to be updatedSreyas\n",
      "Name not found\n"
     ]
    }
   ],
   "source": [
    "D={'John' :[25,32,43],'Peter':[87,55,96],'Ram':[58,55,43],'Meena':[63,79,85]}\n",
    "n=input('Enter the name to be updated')\n",
    "if n in D:\n",
    "    D[n]=[80,77,99]\n",
    "    print(D)\n",
    "else:\n",
    "    print('Name not found')"
   ]
  },
  {
   "cell_type": "code",
   "execution_count": 35,
   "id": "b9b342ba",
   "metadata": {},
   "outputs": [
    {
     "data": {
      "text/plain": [
       "'Nraa'"
      ]
     },
     "execution_count": 35,
     "metadata": {},
     "output_type": "execute_result"
    }
   ],
   "source": [
    "s= 'Nirmala'\n",
    "s[::2]"
   ]
  },
  {
   "cell_type": "code",
   "execution_count": 36,
   "id": "d3638ea7",
   "metadata": {},
   "outputs": [
    {
     "name": "stdout",
     "output_type": "stream",
     "text": [
      "elder= 19\n",
      "youngest= 17\n"
     ]
    }
   ],
   "source": [
    "age=[17,18,19]\n",
    "print('elder=',max(age))\n",
    "print('youngest=',min(age))"
   ]
  },
  {
   "cell_type": "code",
   "execution_count": null,
   "id": "54eca1d9",
   "metadata": {},
   "outputs": [],
   "source": []
  }
 ],
 "metadata": {
  "kernelspec": {
   "display_name": "Python 3 (ipykernel)",
   "language": "python",
   "name": "python3"
  },
  "language_info": {
   "codemirror_mode": {
    "name": "ipython",
    "version": 3
   },
   "file_extension": ".py",
   "mimetype": "text/x-python",
   "name": "python",
   "nbconvert_exporter": "python",
   "pygments_lexer": "ipython3",
   "version": "3.11.5"
  }
 },
 "nbformat": 4,
 "nbformat_minor": 5
}
